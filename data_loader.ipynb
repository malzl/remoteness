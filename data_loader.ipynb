{
 "cells": [
  {
   "cell_type": "code",
   "execution_count": 27,
   "metadata": {},
   "outputs": [],
   "source": [
    "from math import radians, cos, sin, asin, sqrt\n",
    "import re\n",
    "import pandas as pd\n",
    "import numpy as np\n",
    "import statistics\n",
    "from heapq import nlargest\n",
    "import folium\n",
    "from scipy.spatial.distance import cdist\n",
    "from typing import List, Tuple\n",
    "from gmplot import GoogleMapPlotter\n",
    "from gmplot import gmplot\n",
    "from lat_lon_parser import parse\n",
    "import os"
   ]
  },
  {
   "cell_type": "code",
   "execution_count": 33,
   "metadata": {},
   "outputs": [],
   "source": [
    "def import_from_excel_col(file_path, sheet_name, reference_col='weights_gdp'):\n",
    "    df = pd.read_excel(file_path, sheet_name=sheet_name)\n",
    "    values = df[reference_col].tolist()\n",
    "    print(values)\n",
    "    return values\n",
    "\n",
    "def parse_coordinates(coords_list):\n",
    "    north_south = []\n",
    "    east_west = []\n",
    "    for coord in coords_list:\n",
    "        lat, lon = coord.split()\n",
    "        if \"N\" in lat:\n",
    "            north_south.append(lat)\n",
    "        elif \"S\" in lat:\n",
    "            north_south.append(lat)\n",
    "        else:\n",
    "            raise ValueError(f\"Invalid latitude format: {lat}\")\n",
    "        \n",
    "        if \"E\" in lon:\n",
    "            east_west.append(lon)\n",
    "        elif \"W\" in lon:\n",
    "            east_west.append(lon)\n",
    "        else:\n",
    "            raise ValueError(f\"Invalid longitude format: {lon}\")\n",
    "        \n",
    "    return north_south, east_west\n",
    "\n",
    "def coords_converter(latitudes, longitudes):\n",
    "    output_lats = []\n",
    "    output_lons = []\n",
    "    for lat in latitudes:\n",
    "        tmp = parse(lat)\n",
    "        output_lats.append(tmp)\n",
    "\n",
    "    for lon in longitudes:\n",
    "        tmp = parse(lon)\n",
    "        output_lons.append(tmp)\n",
    "    \n",
    "    if len(output_lats) == len(output_lons):\n",
    "        return output_lats, output_lons\n",
    "    else: \n",
    "        print(\"coordinate lengths in input list did not match\")\n",
    "\n"
   ]
  },
  {
   "cell_type": "code",
   "execution_count": 39,
   "metadata": {},
   "outputs": [
    {
     "name": "stdout",
     "output_type": "stream",
     "text": [
      "['04°36′35\"N 74°04′54\"W', '06°41′00″N 75°34′00″W', '03°56′00″N 76°31′00″W', '06°40′00″N 73°27′00″W', '05°00′00″N 74°10′00″W', '10°39′00″N 74°58′00″W', '08°53′00″N 74°19′00″W', '03°23′33″N 72°56′47″W', '05°45′00″N 73°06′00″W', '04°03′00″N 75°15′00″W', '09°14′00″N 73°31′00″W', '02°17′00″N 76°51′00″W', '08°22′00″N 75°42′00″W', '05°17′00″N 75°21′00″W', '02°48′00″N 75°27′00″W', '05°01′00″N 75°55′00″W', '08°01′00″N 72°53′00″W', '01°36′00″N 77°52′00″W', '05°26′00″N 71°30′00″W', '10°11′00″N 74°14′00″W', '11°33′00″N 72°21′00″W', '04°26′00″N 75°41′00″W', '09°02′00″N 75°09′00″W', '06°37′00″N 70°59′00″W', '06°19′00″N 77°00′00″W', '01°02′00″N 73°54′00″W', '00°34′00″N 75°39′00″W', '04°36′35″N 74°04′54″W', '01°59′00″N 71°56′00″W', '01°44′29″N 71°57′24″W', '04°38′00″N 69°14′00″W', '02°49′00″N 68°48′00″W', '00°33′00″N 70°33′00″W']\n",
      "[0.25336532948246937, 0.14988723481067764, 0.0975718320626898, 0.06288092760517318, 0.06156936864235809, 0.04443585550765571, 0.03542058654887553, 0.033518656161736285, 0.0261657711992185, 0.02142411178831574, 0.01956890144195035, 0.01792945273843148, 0.01747329524942131, 0.016772494637813502, 0.016541442799804625, 0.016363057189577184, 0.015595999065599185, 0.015265560959035019, 0.014641211323238973, 0.01358788676761027, 0.012288220178810337, 0.008267748306398521, 0.008204888615175519, 0.005360062859691223, 0.004124954872687889, 0.003966956189343583, 0.003475121578287923, 0.0014958907600501178, 0.0007908428720083246, 0.0007475206523816603, 0.0006583278472679394, 0.0003661152286096541, 0.0002743740576355412]\n",
      "['04°36′35\"N', '06°41′00″N', '03°56′00″N', '06°40′00″N', '05°00′00″N', '10°39′00″N', '08°53′00″N', '03°23′33″N', '05°45′00″N', '04°03′00″N', '09°14′00″N', '02°17′00″N', '08°22′00″N', '05°17′00″N', '02°48′00″N', '05°01′00″N', '08°01′00″N', '01°36′00″N', '05°26′00″N', '10°11′00″N', '11°33′00″N', '04°26′00″N', '09°02′00″N', '06°37′00″N', '06°19′00″N', '01°02′00″N', '00°34′00″N', '04°36′35″N', '01°59′00″N', '01°44′29″N', '04°38′00″N', '02°49′00″N', '00°33′00″N'] ['74°04′54\"W', '75°34′00″W', '76°31′00″W', '73°27′00″W', '74°10′00″W', '74°58′00″W', '74°19′00″W', '72°56′47″W', '73°06′00″W', '75°15′00″W', '73°31′00″W', '76°51′00″W', '75°42′00″W', '75°21′00″W', '75°27′00″W', '75°55′00″W', '72°53′00″W', '77°52′00″W', '71°30′00″W', '74°14′00″W', '72°21′00″W', '75°41′00″W', '75°09′00″W', '70°59′00″W', '77°00′00″W', '73°54′00″W', '75°39′00″W', '74°04′54″W', '71°56′00″W', '71°57′24″W', '69°14′00″W', '68°48′00″W', '70°33′00″W']\n",
      "[4.609722222222222, 6.683333333333334, 3.9333333333333336, 6.666666666666667, 5.0, 10.65, 8.883333333333333, 3.3925, 5.75, 4.05, 9.233333333333333, 2.283333333333333, 8.366666666666667, 5.283333333333333, 2.8, 5.016666666666667, 8.016666666666667, 1.6, 5.433333333333334, 10.183333333333334, 11.55, 4.433333333333334, 9.033333333333333, 6.616666666666667, 6.316666666666666, 1.0333333333333334, 0.5666666666666667, 4.609722222222222, 1.9833333333333334, 1.7413888888888889, 4.633333333333333, 2.8166666666666664, 0.55]\n",
      "[-74.08166666666666, -75.56666666666666, -76.51666666666667, -73.45, -74.16666666666667, -74.96666666666667, -74.31666666666666, -72.94638888888889, -73.1, -75.25, -73.51666666666667, -76.85, -75.7, -75.35, -75.45, -75.91666666666667, -72.88333333333334, -77.86666666666666, -71.5, -74.23333333333333, -72.35, -75.68333333333334, -75.15, -70.98333333333333, -77.0, -73.9, -75.65, -74.08166666666666, -71.93333333333334, -71.95666666666666, -69.23333333333333, -68.8, -70.55]\n",
      "[(4.609722222222222, -74.08166666666666), (6.683333333333334, -75.56666666666666), (3.9333333333333336, -76.51666666666667), (6.666666666666667, -73.45), (5.0, -74.16666666666667), (10.65, -74.96666666666667), (8.883333333333333, -74.31666666666666), (3.3925, -72.94638888888889), (5.75, -73.1), (4.05, -75.25), (9.233333333333333, -73.51666666666667), (2.283333333333333, -76.85), (8.366666666666667, -75.7), (5.283333333333333, -75.35), (2.8, -75.45), (5.016666666666667, -75.91666666666667), (8.016666666666667, -72.88333333333334), (1.6, -77.86666666666666), (5.433333333333334, -71.5), (10.183333333333334, -74.23333333333333), (11.55, -72.35), (4.433333333333334, -75.68333333333334), (9.033333333333333, -75.15), (6.616666666666667, -70.98333333333333), (6.316666666666666, -77.0), (1.0333333333333334, -73.9), (0.5666666666666667, -75.65), (4.609722222222222, -74.08166666666666), (1.9833333333333334, -71.93333333333334), (1.7413888888888889, -71.95666666666666), (4.633333333333333, -69.23333333333333), (2.8166666666666664, -68.8), (0.55, -70.55)]\n"
     ]
    }
   ],
   "source": [
    "filename = 'data.xlsx'\n",
    "\n",
    "coords_list = import_from_excel_col(filename, sheet_name='colombia', reference_col='coordinates')\n",
    "weights_list = import_from_excel_col(filename, sheet_name='colombia', reference_col='weights_gdp')\n",
    "\n",
    "latitudes, longitudes = parse_coordinates(coords_list=coords_list)\n",
    "\n",
    "print(latitudes, longitudes)\n",
    "\n",
    "latitudes_degrees, longitudes_degrees = coords_converter(latitudes=latitudes, longitudes=longitudes)\n",
    "print(latitudes_degrees)\n",
    "print(longitudes_degrees)\n",
    "\n",
    "coordinates = list(zip(latitudes_degrees, longitudes_degrees))\n",
    "print(coordinates)"
   ]
  },
  {
   "cell_type": "code",
   "execution_count": 1,
   "metadata": {},
   "outputs": [],
   "source": [
    "def coordinate_loader(file_name, country, coordinate_reference = 'coordinates', weight_reference='weights_gdp'):\n",
    "    coords_list = []\n",
    "    weights_list = []\n",
    "    coords_list = import_from_excel_col(file_name, sheet_name=country, reference_col=coordinate_reference)\n",
    "    weights_list = import_from_excel_col(file_name, sheet_name=country, reference_col=weight_reference)\n",
    "    latitudes, longitudes = parse_coordinates(coords_list=coords_list)\n",
    "    latitudes_degrees, longitudes_degrees = coords_converter(latitudes=latitudes, longitudes=longitudes)\n",
    "    coordinates = list(zip(latitudes_degrees, longitudes_degrees))\n",
    "    return coordinates, weights_list\n",
    "    \n",
    "\n"
   ]
  }
 ],
 "metadata": {
  "kernelspec": {
   "display_name": "base",
   "language": "python",
   "name": "python3"
  },
  "language_info": {
   "codemirror_mode": {
    "name": "ipython",
    "version": 3
   },
   "file_extension": ".py",
   "mimetype": "text/x-python",
   "name": "python",
   "nbconvert_exporter": "python",
   "pygments_lexer": "ipython3",
   "version": "3.10.8"
  },
  "orig_nbformat": 4
 },
 "nbformat": 4,
 "nbformat_minor": 2
}
